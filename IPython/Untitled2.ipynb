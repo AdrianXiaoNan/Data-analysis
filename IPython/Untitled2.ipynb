{
 "cells": [
  {
   "cell_type": "code",
   "execution_count": 2,
   "metadata": {},
   "outputs": [],
   "source": [
    "import numpy as np"
   ]
  },
  {
   "cell_type": "code",
   "execution_count": 3,
   "metadata": {},
   "outputs": [],
   "source": [
    "points = np.arange(-5,5,0.01)"
   ]
  },
  {
   "cell_type": "code",
   "execution_count": 4,
   "metadata": {},
   "outputs": [],
   "source": [
    "xs,ys = np.meshgrid(points,points)"
   ]
  },
  {
   "cell_type": "code",
   "execution_count": 5,
   "metadata": {},
   "outputs": [
    {
     "data": {
      "text/plain": [
       "array([[-5.  , -4.99, -4.98, ...,  4.97,  4.98,  4.99],\n",
       "       [-5.  , -4.99, -4.98, ...,  4.97,  4.98,  4.99],\n",
       "       [-5.  , -4.99, -4.98, ...,  4.97,  4.98,  4.99],\n",
       "       ...,\n",
       "       [-5.  , -4.99, -4.98, ...,  4.97,  4.98,  4.99],\n",
       "       [-5.  , -4.99, -4.98, ...,  4.97,  4.98,  4.99],\n",
       "       [-5.  , -4.99, -4.98, ...,  4.97,  4.98,  4.99]])"
      ]
     },
     "execution_count": 5,
     "metadata": {},
     "output_type": "execute_result"
    }
   ],
   "source": [
    "xs"
   ]
  },
  {
   "cell_type": "code",
   "execution_count": 6,
   "metadata": {},
   "outputs": [],
   "source": [
    "z = np.sqrt(xs**2+ys**2)"
   ]
  },
  {
   "cell_type": "code",
   "execution_count": 7,
   "metadata": {},
   "outputs": [
    {
     "data": {
      "text/plain": [
       "array([[7.07106781, 7.06400028, 7.05693985, ..., 7.04988652, 7.05693985,\n",
       "        7.06400028],\n",
       "       [7.06400028, 7.05692568, 7.04985815, ..., 7.04279774, 7.04985815,\n",
       "        7.05692568],\n",
       "       [7.05693985, 7.04985815, 7.04278354, ..., 7.03571603, 7.04278354,\n",
       "        7.04985815],\n",
       "       ...,\n",
       "       [7.04988652, 7.04279774, 7.03571603, ..., 7.0286414 , 7.03571603,\n",
       "        7.04279774],\n",
       "       [7.05693985, 7.04985815, 7.04278354, ..., 7.03571603, 7.04278354,\n",
       "        7.04985815],\n",
       "       [7.06400028, 7.05692568, 7.04985815, ..., 7.04279774, 7.04985815,\n",
       "        7.05692568]])"
      ]
     },
     "execution_count": 7,
     "metadata": {},
     "output_type": "execute_result"
    }
   ],
   "source": [
    "z"
   ]
  },
  {
   "cell_type": "code",
   "execution_count": 8,
   "metadata": {},
   "outputs": [],
   "source": [
    "import matplotlib.pyplot as plt"
   ]
  },
  {
   "cell_type": "code",
   "execution_count": 10,
   "metadata": {
    "scrolled": true
   },
   "outputs": [
    {
     "data": {
      "text/plain": [
       "Text(0.5, 1.0, 'Image plot of $\\\\sqrt{x^2+y^2}$ for a grid of values')"
      ]
     },
     "execution_count": 10,
     "metadata": {},
     "output_type": "execute_result"
    },
    {
     "data": {
      "image/png": "[encoded data removed]",
      "text/plain": [
       "<Figure size 432x288 with 2 Axes>"
      ]
     },
     "metadata": {
      "needs_background": "light"
     },
     "output_type": "display_data"
    }
   ],
   "source": [
    "plt.imshow(z,cmap = plt.cm.gray);\n",
    "plt.colorbar()\n",
    "plt.title(\"Image plot of $\\sqrt{x^2+y^2}$ for a grid of values\")"
   ]
  },
  {
   "cell_type": "code",
   "execution_count": 11,
   "metadata": {},
   "outputs": [],
   "source": [
    "xarr = np.array([1.1,1.2,1.3,1.4,1.5])\n",
    "yarr = np.array([2.1,2.2,2.3,2.4,2.5])\n",
    "cond = np.array([True,False,True,True,False])"
   ]
  },
  {
   "cell_type": "code",
   "execution_count": 13,
   "metadata": {},
   "outputs": [],
   "source": [
    "result = [(x if c else y)\n",
    "         for x,y,c in zip(xarr,yarr,cond)]"
   ]
  },
  {
   "cell_type": "code",
   "execution_count": 14,
   "metadata": {},
   "outputs": [
    {
     "data": {
      "text/plain": [
       "[1.1, 2.2, 1.3, 1.4, 2.5]"
      ]
     },
     "execution_count": 14,
     "metadata": {},
     "output_type": "execute_result"
    }
   ],
   "source": [
    "result"
   ]
  },
  {
   "cell_type": "code",
   "execution_count": 16,
   "metadata": {},
   "outputs": [],
   "source": [
    "result = np.where (cond,xarr,yarr)"
   ]
  },
  {
   "cell_type": "code",
   "execution_count": 17,
   "metadata": {},
   "outputs": [
    {
     "data": {
      "text/plain": [
       "array([1.1, 2.2, 1.3, 1.4, 2.5])"
      ]
     },
     "execution_count": 17,
     "metadata": {},
     "output_type": "execute_result"
    }
   ],
   "source": [
    "result"
   ]
  },
  {
   "cell_type": "code",
   "execution_count": 18,
   "metadata": {},
   "outputs": [],
   "source": [
    "arr = np.random.randn(4,4)"
   ]
  },
  {
   "cell_type": "code",
   "execution_count": 19,
   "metadata": {},
   "outputs": [
    {
     "data": {
      "text/plain": [
       "array([[-0.28671996, -0.31294614,  0.23122886,  0.61573281],\n",
       "       [ 0.28499437, -1.51677024,  2.03375562, -0.37598877],\n",
       "       [-0.08311542,  1.78072412,  2.1187441 , -0.33154399],\n",
       "       [-0.3907405 , -0.56104516,  0.49212437, -0.95410672]])"
      ]
     },
     "execution_count": 19,
     "metadata": {},
     "output_type": "execute_result"
    }
   ],
   "source": [
    "arr"
   ]
  },
  {
   "cell_type": "code",
   "execution_count": 20,
   "metadata": {},
   "outputs": [
    {
     "data": {
      "text/plain": [
       "array([[False, False,  True,  True],\n",
       "       [ True, False,  True, False],\n",
       "       [False,  True,  True, False],\n",
       "       [False, False,  True, False]])"
      ]
     },
     "execution_count": 20,
     "metadata": {},
     "output_type": "execute_result"
    }
   ],
   "source": [
    "arr>0"
   ]
  },
  {
   "cell_type": "code",
   "execution_count": 21,
   "metadata": {},
   "outputs": [
    {
     "data": {
      "text/plain": [
       "array([[-2, -2,  2,  2],\n",
       "       [ 2, -2,  2, -2],\n",
       "       [-2,  2,  2, -2],\n",
       "       [-2, -2,  2, -2]])"
      ]
     },
     "execution_count": 21,
     "metadata": {},
     "output_type": "execute_result"
    }
   ],
   "source": [
    "np.where(arr>0,2,-2)"
   ]
  },
  {
   "cell_type": "code",
   "execution_count": 24,
   "metadata": {},
   "outputs": [
    {
     "data": {
      "text/plain": [
       "array([[0.        , 0.        , 0.23122886, 0.61573281],\n",
       "       [0.28499437, 0.        , 2.03375562, 0.        ],\n",
       "       [0.        , 1.78072412, 2.1187441 , 0.        ],\n",
       "       [0.        , 0.        , 0.49212437, 0.        ]])"
      ]
     },
     "execution_count": 24,
     "metadata": {},
     "output_type": "execute_result"
    }
   ],
   "source": [
    "np.where(arr>0,arr,0)"
   ]
  },
  {
   "cell_type": "code",
   "execution_count": 25,
   "metadata": {},
   "outputs": [],
   "source": [
    "arr = np.random.randn(5,4)"
   ]
  },
  {
   "cell_type": "code",
   "execution_count": 26,
   "metadata": {},
   "outputs": [
    {
     "data": {
      "text/plain": [
       "array([[-0.02062079,  1.82214808, -0.83058307,  0.53258844],\n",
       "       [ 0.0845411 ,  1.60388213,  0.81555611, -0.10503101],\n",
       "       [ 0.98786671, -0.5841629 ,  0.4444999 , -0.21611891],\n",
       "       [ 0.93792866, -0.61700528,  2.22323282, -0.72421135],\n",
       "       [ 0.04862827,  0.05430294, -1.11562351,  1.0944776 ]])"
      ]
     },
     "execution_count": 26,
     "metadata": {},
     "output_type": "execute_result"
    }
   ],
   "source": [
    "arr"
   ]
  },
  {
   "cell_type": "code",
   "execution_count": 27,
   "metadata": {},
   "outputs": [
    {
     "data": {
      "text/plain": [
       "0.3218147971079673"
      ]
     },
     "execution_count": 27,
     "metadata": {},
     "output_type": "execute_result"
    }
   ],
   "source": [
    "arr.mean()"
   ]
  },
  {
   "cell_type": "code",
   "execution_count": 28,
   "metadata": {},
   "outputs": [
    {
     "data": {
      "text/plain": [
       "0.9004303849639184"
      ]
     },
     "execution_count": 28,
     "metadata": {},
     "output_type": "execute_result"
    }
   ],
   "source": [
    "arr.std()"
   ]
  },
  {
   "cell_type": "code",
   "execution_count": 29,
   "metadata": {},
   "outputs": [
    {
     "data": {
      "text/plain": [
       "6.4362959421593455"
      ]
     },
     "execution_count": 29,
     "metadata": {},
     "output_type": "execute_result"
    }
   ],
   "source": [
    "arr.sum()"
   ]
  },
  {
   "cell_type": "code",
   "execution_count": 30,
   "metadata": {},
   "outputs": [
    {
     "data": {
      "text/plain": [
       "array([0.37588317, 0.59973708, 0.1580212 , 0.45498621, 0.02044633])"
      ]
     },
     "execution_count": 30,
     "metadata": {},
     "output_type": "execute_result"
    }
   ],
   "source": [
    "arr.mean(axis=1)"
   ]
  },
  {
   "cell_type": "code",
   "execution_count": 31,
   "metadata": {},
   "outputs": [],
   "source": [
    "arr1 =np.array([[1,2,3,4],[2,3,4,5],[3,4,5,6]])"
   ]
  },
  {
   "cell_type": "code",
   "execution_count": 32,
   "metadata": {},
   "outputs": [
    {
     "data": {
      "text/plain": [
       "array([[1, 2, 3, 4],\n",
       "       [2, 3, 4, 5],\n",
       "       [3, 4, 5, 6]])"
      ]
     },
     "execution_count": 32,
     "metadata": {},
     "output_type": "execute_result"
    }
   ],
   "source": [
    "arr1"
   ]
  },
  {
   "cell_type": "code",
   "execution_count": 57,
   "metadata": {},
   "outputs": [
    {
     "data": {
      "text/plain": [
       "array([2., 3., 4., 5.])"
      ]
     },
     "execution_count": 57,
     "metadata": {},
     "output_type": "execute_result"
    }
   ],
   "source": [
    "arr1.mean(axis=0)"
   ]
  },
  {
   "cell_type": "code",
   "execution_count": 45,
   "metadata": {},
   "outputs": [],
   "source": [
    "arr = np.array([[0,1,2],[3,4,5],[6,7,8]])"
   ]
  },
  {
   "cell_type": "code",
   "execution_count": 46,
   "metadata": {},
   "outputs": [
    {
     "data": {
      "text/plain": [
       "array([[0, 1, 2],\n",
       "       [3, 4, 5],\n",
       "       [6, 7, 8]])"
      ]
     },
     "execution_count": 46,
     "metadata": {},
     "output_type": "execute_result"
    }
   ],
   "source": [
    "arr"
   ]
  },
  {
   "cell_type": "code",
   "execution_count": 59,
   "metadata": {},
   "outputs": [
    {
     "data": {
      "text/plain": [
       "array([[ 0,  1,  3],\n",
       "       [ 3,  7, 12],\n",
       "       [ 6, 13, 21]], dtype=int32)"
      ]
     },
     "execution_count": 59,
     "metadata": {},
     "output_type": "execute_result"
    }
   ],
   "source": [
    "arr.cumsum(axis=1)"
   ]
  },
  {
   "cell_type": "code",
   "execution_count": 54,
   "metadata": {},
   "outputs": [
    {
     "data": {
      "text/plain": [
       "array([[  0,   0,   0],\n",
       "       [  3,  12,  60],\n",
       "       [  6,  42, 336]], dtype=int32)"
      ]
     },
     "execution_count": 54,
     "metadata": {},
     "output_type": "execute_result"
    }
   ],
   "source": [
    "arr.cumprod(axis=1)"
   ]
  },
  {
   "cell_type": "code",
   "execution_count": 60,
   "metadata": {},
   "outputs": [],
   "source": [
    "arr = np.random.randn(100)"
   ]
  },
  {
   "cell_type": "code",
   "execution_count": 63,
   "metadata": {},
   "outputs": [
    {
     "data": {
      "text/plain": [
       "59"
      ]
     },
     "execution_count": 63,
     "metadata": {},
     "output_type": "execute_result"
    }
   ],
   "source": [
    "(arr>0).sum()"
   ]
  },
  {
   "cell_type": "code",
   "execution_count": 66,
   "metadata": {},
   "outputs": [
    {
     "data": {
      "text/plain": [
       "100"
      ]
     },
     "execution_count": 66,
     "metadata": {},
     "output_type": "execute_result"
    }
   ],
   "source": [
    "(arr!=0).sum()"
   ]
  },
  {
   "cell_type": "code",
   "execution_count": 67,
   "metadata": {},
   "outputs": [],
   "source": [
    "bools = np.array([False,False,True,False])"
   ]
  },
  {
   "cell_type": "code",
   "execution_count": 68,
   "metadata": {},
   "outputs": [
    {
     "data": {
      "text/plain": [
       "True"
      ]
     },
     "execution_count": 68,
     "metadata": {},
     "output_type": "execute_result"
    }
   ],
   "source": [
    "bools.any()"
   ]
  },
  {
   "cell_type": "code",
   "execution_count": 69,
   "metadata": {},
   "outputs": [
    {
     "data": {
      "text/plain": [
       "False"
      ]
     },
     "execution_count": 69,
     "metadata": {},
     "output_type": "execute_result"
    }
   ],
   "source": [
    "bools.all()"
   ]
  },
  {
   "cell_type": "code",
   "execution_count": 70,
   "metadata": {},
   "outputs": [],
   "source": [
    "arr = np.random.randn(5,3)"
   ]
  },
  {
   "cell_type": "code",
   "execution_count": 71,
   "metadata": {},
   "outputs": [
    {
     "data": {
      "text/plain": [
       "array([[-1.43849807,  1.28367017, -0.14706813],\n",
       "       [ 1.33303988, -0.25831998, -0.8286378 ],\n",
       "       [-1.64966455, -0.45695424,  0.19477181],\n",
       "       [-0.9165153 ,  1.5066546 ,  0.78740427],\n",
       "       [ 0.16734173, -0.37751518,  1.24782921]])"
      ]
     },
     "execution_count": 71,
     "metadata": {},
     "output_type": "execute_result"
    }
   ],
   "source": [
    "arr"
   ]
  },
  {
   "cell_type": "code",
   "execution_count": 72,
   "metadata": {},
   "outputs": [],
   "source": [
    "arr.sort(1)"
   ]
  },
  {
   "cell_type": "code",
   "execution_count": 73,
   "metadata": {},
   "outputs": [
    {
     "data": {
      "text/plain": [
       "array([[-1.43849807, -0.14706813,  1.28367017],\n",
       "       [-0.8286378 , -0.25831998,  1.33303988],\n",
       "       [-1.64966455, -0.45695424,  0.19477181],\n",
       "       [-0.9165153 ,  0.78740427,  1.5066546 ],\n",
       "       [-0.37751518,  0.16734173,  1.24782921]])"
      ]
     },
     "execution_count": 73,
     "metadata": {},
     "output_type": "execute_result"
    }
   ],
   "source": [
    "arr"
   ]
  },
  {
   "cell_type": "code",
   "execution_count": 74,
   "metadata": {},
   "outputs": [],
   "source": [
    "arr.sort(0)"
   ]
  },
  {
   "cell_type": "code",
   "execution_count": 75,
   "metadata": {},
   "outputs": [
    {
     "data": {
      "text/plain": [
       "array([[-1.64966455, -0.45695424,  0.19477181],\n",
       "       [-1.43849807, -0.25831998,  1.24782921],\n",
       "       [-0.9165153 , -0.14706813,  1.28367017],\n",
       "       [-0.8286378 ,  0.16734173,  1.33303988],\n",
       "       [-0.37751518,  0.78740427,  1.5066546 ]])"
      ]
     },
     "execution_count": 75,
     "metadata": {},
     "output_type": "execute_result"
    }
   ],
   "source": [
    "arr"
   ]
  },
  {
   "cell_type": "code",
   "execution_count": 76,
   "metadata": {},
   "outputs": [],
   "source": [
    "large_arr = np.random.randn(1000)"
   ]
  },
  {
   "cell_type": "code",
   "execution_count": 77,
   "metadata": {},
   "outputs": [],
   "source": [
    "large_arr.sort()"
   ]
  },
  {
   "cell_type": "code",
   "execution_count": 78,
   "metadata": {},
   "outputs": [
    {
     "data": {
      "text/plain": [
       "-1.563268375558744"
      ]
     },
     "execution_count": 78,
     "metadata": {},
     "output_type": "execute_result"
    }
   ],
   "source": [
    "large_arr[int(0.05*len(large_arr))]"
   ]
  },
  {
   "cell_type": "code",
   "execution_count": 79,
   "metadata": {},
   "outputs": [
    {
     "data": {
      "text/plain": [
       "1000"
      ]
     },
     "execution_count": 79,
     "metadata": {},
     "output_type": "execute_result"
    }
   ],
   "source": [
    "len(large_arr)"
   ]
  },
  {
   "cell_type": "code",
   "execution_count": 80,
   "metadata": {},
   "outputs": [
    {
     "data": {
      "text/plain": [
       "array([-3.06783863, -2.83540925, -2.69719681, -2.62940091, -2.59233627,\n",
       "       -2.53494771, -2.41158254, -2.33341541, -2.26781416, -2.23217821,\n",
       "       -2.22678953, -2.11100349, -2.0802608 , -2.07419139, -1.99985184,\n",
       "       -1.97730638, -1.96759828, -1.96446592, -1.95794467, -1.94022756,\n",
       "       -1.93219571, -1.92415089, -1.91690036, -1.91399373, -1.83559098,\n",
       "       -1.83479145, -1.82528585, -1.7988929 , -1.77746579, -1.7410218 ,\n",
       "       -1.73449076, -1.71664489, -1.71057323, -1.70533448, -1.69846432,\n",
       "       -1.68257688, -1.67981386, -1.67767661, -1.67189988, -1.65925581,\n",
       "       -1.65565179, -1.65553673, -1.64659802, -1.64567865, -1.62441248,\n",
       "       -1.62225115, -1.60854107, -1.59679953, -1.57262702, -1.5703131 ,\n",
       "       -1.56326838])"
      ]
     },
     "execution_count": 80,
     "metadata": {},
     "output_type": "execute_result"
    }
   ],
   "source": [
    "large_arr[0:51]"
   ]
  },
  {
   "cell_type": "code",
   "execution_count": 83,
   "metadata": {},
   "outputs": [],
   "source": [
    "names = np.array(['i','you','love'])"
   ]
  },
  {
   "cell_type": "code",
   "execution_count": 84,
   "metadata": {},
   "outputs": [
    {
     "data": {
      "text/plain": [
       "array(['i', 'love', 'you'], dtype='<U4')"
      ]
     },
     "execution_count": 84,
     "metadata": {},
     "output_type": "execute_result"
    }
   ],
   "source": [
    "np.unique(names)"
   ]
  },
  {
   "cell_type": "code",
   "execution_count": 85,
   "metadata": {},
   "outputs": [],
   "source": [
    "values = np.array([6,0,0,3,2,5,6])"
   ]
  },
  {
   "cell_type": "code",
   "execution_count": 86,
   "metadata": {},
   "outputs": [
    {
     "data": {
      "text/plain": [
       "array([6, 0, 0, 3, 2, 5, 6])"
      ]
     },
     "execution_count": 86,
     "metadata": {},
     "output_type": "execute_result"
    }
   ],
   "source": [
    "values"
   ]
  },
  {
   "cell_type": "code",
   "execution_count": 88,
   "metadata": {},
   "outputs": [
    {
     "data": {
      "text/plain": [
       "array([ True, False, False,  True,  True, False,  True])"
      ]
     },
     "execution_count": 88,
     "metadata": {},
     "output_type": "execute_result"
    }
   ],
   "source": [
    "np.in1d(values,[2,3,6])"
   ]
  },
  {
   "cell_type": "code",
   "execution_count": 89,
   "metadata": {},
   "outputs": [],
   "source": [
    "arr= np.arange(10)"
   ]
  },
  {
   "cell_type": "code",
   "execution_count": 90,
   "metadata": {},
   "outputs": [
    {
     "data": {
      "text/plain": [
       "array([0, 1, 2, 3, 4, 5, 6, 7, 8, 9])"
      ]
     },
     "execution_count": 90,
     "metadata": {},
     "output_type": "execute_result"
    }
   ],
   "source": [
    "arr"
   ]
  },
  {
   "cell_type": "code",
   "execution_count": 91,
   "metadata": {},
   "outputs": [],
   "source": [
    "np.save('C:/Users/xiaonan/Desktop/arr1',arr)"
   ]
  },
  {
   "cell_type": "code",
   "execution_count": 93,
   "metadata": {},
   "outputs": [],
   "source": [
    "arr2 = np.load('C:/Users/xiaonan/Desktop/arr1.npy')"
   ]
  },
  {
   "cell_type": "code",
   "execution_count": 94,
   "metadata": {},
   "outputs": [
    {
     "data": {
      "text/plain": [
       "array([0, 1, 2, 3, 4, 5, 6, 7, 8, 9])"
      ]
     },
     "execution_count": 94,
     "metadata": {},
     "output_type": "execute_result"
    }
   ],
   "source": [
    "arr2"
   ]
  },
  {
   "cell_type": "code",
   "execution_count": 95,
   "metadata": {},
   "outputs": [],
   "source": [
    "arr2 = np.arange(100)"
   ]
  },
  {
   "cell_type": "code",
   "execution_count": 96,
   "metadata": {},
   "outputs": [
    {
     "data": {
      "text/plain": [
       "array([ 0,  1,  2,  3,  4,  5,  6,  7,  8,  9, 10, 11, 12, 13, 14, 15, 16,\n",
       "       17, 18, 19, 20, 21, 22, 23, 24, 25, 26, 27, 28, 29, 30, 31, 32, 33,\n",
       "       34, 35, 36, 37, 38, 39, 40, 41, 42, 43, 44, 45, 46, 47, 48, 49, 50,\n",
       "       51, 52, 53, 54, 55, 56, 57, 58, 59, 60, 61, 62, 63, 64, 65, 66, 67,\n",
       "       68, 69, 70, 71, 72, 73, 74, 75, 76, 77, 78, 79, 80, 81, 82, 83, 84,\n",
       "       85, 86, 87, 88, 89, 90, 91, 92, 93, 94, 95, 96, 97, 98, 99])"
      ]
     },
     "execution_count": 96,
     "metadata": {},
     "output_type": "execute_result"
    }
   ],
   "source": [
    "arr2"
   ]
  },
  {
   "cell_type": "code",
   "execution_count": 97,
   "metadata": {},
   "outputs": [],
   "source": [
    "np.savez('C:/Users/xiaonan/Desktop/arr3',a = arr,b=arr2)"
   ]
  },
  {
   "cell_type": "code",
   "execution_count": 99,
   "metadata": {},
   "outputs": [],
   "source": [
    "arch = np.load('C:/Users/xiaonan/Desktop/arr3.npz')"
   ]
  },
  {
   "cell_type": "code",
   "execution_count": 100,
   "metadata": {},
   "outputs": [
    {
     "data": {
      "text/plain": [
       "<numpy.lib.npyio.NpzFile at 0x1ddb25a15c8>"
      ]
     },
     "execution_count": 100,
     "metadata": {},
     "output_type": "execute_result"
    }
   ],
   "source": [
    "arch"
   ]
  },
  {
   "cell_type": "code",
   "execution_count": 102,
   "metadata": {},
   "outputs": [
    {
     "data": {
      "text/plain": [
       "array([0, 1, 2, 3, 4, 5, 6, 7, 8, 9])"
      ]
     },
     "execution_count": 102,
     "metadata": {},
     "output_type": "execute_result"
    }
   ],
   "source": [
    "arch['a']"
   ]
  },
  {
   "cell_type": "code",
   "execution_count": 103,
   "metadata": {},
   "outputs": [
    {
     "data": {
      "text/plain": [
       "array([ 0,  1,  2,  3,  4,  5,  6,  7,  8,  9, 10, 11, 12, 13, 14, 15, 16,\n",
       "       17, 18, 19, 20, 21, 22, 23, 24, 25, 26, 27, 28, 29, 30, 31, 32, 33,\n",
       "       34, 35, 36, 37, 38, 39, 40, 41, 42, 43, 44, 45, 46, 47, 48, 49, 50,\n",
       "       51, 52, 53, 54, 55, 56, 57, 58, 59, 60, 61, 62, 63, 64, 65, 66, 67,\n",
       "       68, 69, 70, 71, 72, 73, 74, 75, 76, 77, 78, 79, 80, 81, 82, 83, 84,\n",
       "       85, 86, 87, 88, 89, 90, 91, 92, 93, 94, 95, 96, 97, 98, 99])"
      ]
     },
     "execution_count": 103,
     "metadata": {},
     "output_type": "execute_result"
    }
   ],
   "source": [
    "arch['b']"
   ]
  },
  {
   "cell_type": "code",
   "execution_count": 104,
   "metadata": {},
   "outputs": [],
   "source": [
    "arr4 = np.random.randn(1000)"
   ]
  },
  {
   "cell_type": "code",
   "execution_count": 105,
   "metadata": {},
   "outputs": [
    {
     "data": {
      "text/plain": [
       "array([ 4.40808232e-01,  8.52285797e-01, -1.11121459e+00, -7.83242971e-01,\n",
       "        1.49184590e+00, -9.11392766e-02, -1.71421541e+00, -3.72865799e-01,\n",
       "       -4.11572994e-01,  1.14660275e+00,  3.88371533e-01,  6.70413337e-02,\n",
       "        1.47334523e-01,  8.28638597e-03,  9.40742712e-01, -3.89523235e-01,\n",
       "       -2.42617669e-01,  1.37131366e+00,  1.10753875e+00,  3.43567594e-01,\n",
       "        1.31355746e+00, -5.90259243e-01,  5.84886934e-01, -8.40321935e-01,\n",
       "       -1.15761478e+00,  6.62492360e-02,  2.09902840e-01, -1.52989742e-01,\n",
       "        7.72502887e-02, -1.79656063e+00, -4.80457281e-01, -6.74370899e-01,\n",
       "        2.01372852e+00,  1.49101893e+00,  1.00044319e+00, -4.03179696e-01,\n",
       "       -1.07621999e+00,  1.08986216e-01,  1.09517843e+00,  1.93920100e+00,\n",
       "        6.22941197e-01, -1.53063653e+00, -1.03716632e+00,  8.32221244e-01,\n",
       "        4.35795706e-01,  6.77788803e-01,  1.24792026e+00, -9.63947204e-01,\n",
       "        2.34397108e-01,  1.04998844e+00, -1.76056803e+00,  8.62618392e-02,\n",
       "       -7.84867093e-02, -4.10461673e-01,  2.89744472e-01,  4.80296214e-01,\n",
       "       -4.16235653e-01,  1.14313535e-01,  7.78936122e-01, -9.37821042e-01,\n",
       "       -3.38310637e-01, -1.37651534e+00,  1.47441988e+00, -2.47836522e-01,\n",
       "       -6.63680906e-01, -6.12458837e-01,  5.27607374e-01,  2.33333807e+00,\n",
       "        7.36551151e-01, -1.17678264e+00, -1.25216220e+00,  8.35507694e-01,\n",
       "       -2.48900036e-01,  5.31887649e-01, -8.83036837e-01, -9.61053253e-01,\n",
       "        6.31365610e-01, -4.36821670e-02, -1.57978110e+00, -2.53678393e-01,\n",
       "        6.06344304e-01, -5.68336695e-02, -1.58865182e-01,  3.85566561e-02,\n",
       "        3.04506893e-01, -5.72035042e-01,  1.20040469e-01, -1.50996912e+00,\n",
       "        6.94460891e-01, -9.59707876e-01,  4.75764816e-01, -5.16417580e-01,\n",
       "       -2.06946478e-01, -9.64518520e-01, -1.42795248e+00, -5.39603944e-01,\n",
       "       -1.04311753e+00,  9.41590226e-01, -8.36471069e-01, -1.36425648e+00,\n",
       "        5.28903137e-01, -3.71850128e-01,  1.03410923e+00,  1.20996742e+00,\n",
       "       -1.08147456e+00,  1.13396564e+00,  9.89678554e-01,  6.89500930e-02,\n",
       "       -5.66600153e-01, -3.36562508e-02, -1.66915041e-01,  7.56783027e-02,\n",
       "       -4.21025181e-01,  2.50304750e-01, -2.60381523e-01,  6.12705465e-01,\n",
       "        4.15193746e-01,  9.20622644e-02, -1.03482365e-01, -1.37355398e+00,\n",
       "        2.12387776e-01, -6.33891667e-01,  1.57063644e+00,  2.90587807e-01,\n",
       "       -3.99204704e-01, -1.29967062e+00, -7.96421008e-01,  8.00814508e-01,\n",
       "        1.97019254e-01, -7.28839831e-01,  3.12074001e-01,  2.48860871e-01,\n",
       "       -3.16704559e-01, -1.01472197e-01,  2.41635815e-01, -7.74364614e-02,\n",
       "        3.46495999e-01,  3.14039485e-01,  3.61475625e-01, -5.47811297e-01,\n",
       "       -9.04382471e-01,  9.49446481e-01, -2.34329166e+00, -1.78883846e+00,\n",
       "       -8.81522453e-01, -1.51570486e-01, -1.67550348e+00, -1.19168858e-01,\n",
       "        3.25007826e-01,  6.55629093e-01,  1.54215786e+00,  9.15032276e-02,\n",
       "        1.68127373e+00,  1.58789941e+00, -1.77208127e+00, -5.03981026e-01,\n",
       "       -1.84990097e-01,  1.22955259e+00, -1.37445912e-02, -2.15900085e+00,\n",
       "        2.99519267e-01,  8.20984024e-02, -2.07670928e+00, -5.33098445e-01,\n",
       "       -7.88418995e-01,  3.49740422e-01, -5.45718545e-01,  7.59193470e-01,\n",
       "       -1.64980353e+00,  1.34654104e+00, -5.40086426e-01,  4.32696094e-01,\n",
       "        9.65035961e-01,  2.17992454e-02,  8.99472629e-01, -1.00955930e+00,\n",
       "       -3.23485285e-01, -7.15835757e-01,  1.57907063e-01,  1.65862236e+00,\n",
       "        2.26279170e+00, -1.64682182e+00,  2.39404526e-01,  5.57775281e-02,\n",
       "       -9.46962418e-02,  2.38833247e+00,  7.25076121e-01,  1.16192281e+00,\n",
       "       -1.09509912e+00, -1.52531518e-01,  4.23647250e-01, -8.30202162e-01,\n",
       "       -2.50127423e-02,  4.47483621e-01, -5.66572220e-01, -5.57432145e-01,\n",
       "       -9.72482218e-01,  1.27214069e+00,  1.79008038e-01,  9.59064025e-01,\n",
       "        3.86847992e-01,  9.27456150e-01,  1.68856465e-01,  4.73192092e-01,\n",
       "        9.27234230e-01,  1.26643738e+00,  4.56701331e-01,  1.07422119e+00,\n",
       "       -7.89917665e-01,  7.96756026e-01, -8.37216461e-02, -1.22567984e+00,\n",
       "        2.08964626e+00,  5.18367432e-01,  9.62269709e-01, -4.83092199e-01,\n",
       "       -1.27524988e+00,  6.72597940e-03, -8.71145549e-01, -9.45449240e-02,\n",
       "       -1.50351380e+00,  1.33392548e+00,  6.22959341e-02,  6.22841135e-01,\n",
       "        1.09119943e+00, -7.44029939e-01, -1.77056911e+00, -9.97501001e-01,\n",
       "        6.49858744e-01,  1.49783993e-01,  1.97920617e+00,  4.26148828e-01,\n",
       "        1.77103627e-01, -1.02956412e+00,  1.29155882e+00, -2.72428398e-01,\n",
       "        8.69194174e-01, -1.79662988e-01,  5.01782311e-01, -9.20094113e-01,\n",
       "        8.42637852e-02,  7.54035849e-01,  2.06729213e-01,  9.53822730e-01,\n",
       "       -7.11909215e-01,  1.55799343e-02,  2.52894057e-01, -2.75070051e-01,\n",
       "       -1.66826963e-01, -1.87662190e+00,  6.20482398e-01, -2.41182121e+00,\n",
       "        5.92400178e-01,  1.73354938e-01,  4.32716044e-01, -1.09429886e+00,\n",
       "       -3.65095857e-01, -1.78788998e-01, -1.24363111e+00, -9.58025295e-01,\n",
       "       -5.47073608e-01,  6.23935641e-01, -2.29942382e-01, -4.47518013e-01,\n",
       "       -1.30602762e-01, -1.67909239e+00, -1.88109339e+00, -4.40422365e-01,\n",
       "        1.77808778e+00, -5.85047501e-01, -2.01227548e-01,  5.15045537e-01,\n",
       "       -8.37119807e-01, -1.17590758e+00,  1.12987882e+00, -7.20519967e-01,\n",
       "       -6.19473901e-01, -1.78206636e+00, -1.80995502e+00,  1.39555376e+00,\n",
       "       -1.60416290e+00,  1.04513167e+00, -7.83699764e-02,  1.74817287e+00,\n",
       "       -1.62222899e+00, -5.15930823e-01,  4.29510662e-01,  8.30999863e-01,\n",
       "       -8.90909465e-01,  5.23084228e-01,  5.78022868e-01, -1.54908196e+00,\n",
       "        1.31983499e+00,  2.35425650e-01, -4.46851462e-02,  1.50188760e-01,\n",
       "        6.94597751e-01,  2.41842733e-01,  1.71721509e+00, -6.92347222e-01,\n",
       "        3.21181184e-01, -5.22003131e-01, -1.09426008e+00,  5.43042068e-01,\n",
       "        9.32116444e-01, -6.38461240e-01, -5.92000137e-01, -1.46058081e+00,\n",
       "       -1.22869417e+00,  1.81578748e+00, -3.87520474e-01,  1.93364423e-01,\n",
       "        6.28097146e-01, -1.53574667e+00, -8.40022295e-01,  7.95015330e-01,\n",
       "        9.34656856e-01, -6.15814839e-01,  3.69479255e-01,  9.75786255e-01,\n",
       "       -2.61712370e+00, -1.81993434e-01,  4.89939695e-01, -5.41225275e-01,\n",
       "       -2.89440027e+00,  7.86137412e-02,  5.56971213e-01,  1.01766765e+00,\n",
       "       -7.77366172e-01, -4.31990916e-01,  2.51123223e-01,  4.47432139e-01,\n",
       "        2.16667108e+00,  8.15010185e-01, -9.32820637e-01,  2.28211374e+00,\n",
       "        8.54629307e-01, -2.99957963e-02, -4.72522353e-01, -4.42870388e-01,\n",
       "       -1.51715310e+00,  7.53026509e-01, -1.09542280e+00, -1.07745939e+00,\n",
       "       -4.48124975e-01, -1.76815458e+00,  1.27956729e+00,  1.05562870e+00,\n",
       "        1.07182381e+00,  5.57252775e-01,  7.37035706e-01, -1.25936063e-01,\n",
       "        1.37811293e+00, -1.71482066e+00, -2.29082886e-01,  5.95755802e-01,\n",
       "        2.73439698e-01, -9.06073322e-01,  2.39936824e+00,  1.53588792e+00,\n",
       "        3.76874935e-01,  1.69148287e+00,  1.21861091e-01, -3.09079760e-01,\n",
       "        1.75245638e+00, -5.18166420e-01, -1.67919738e-01,  3.90235439e-01,\n",
       "        8.50822370e-01,  6.65052422e-01, -7.60561780e-01,  1.64032928e+00,\n",
       "       -1.66621112e-01,  6.59001469e-01,  9.21457178e-01, -1.20940169e+00,\n",
       "       -6.01664925e-01, -1.75621832e-01,  4.86831445e-01,  1.08986387e-01,\n",
       "       -4.41140386e-01, -2.63470888e-01,  1.67460490e+00, -5.97160681e-01,\n",
       "       -5.70478536e-01, -1.01011126e+00, -3.16868463e-01,  3.56361373e-01,\n",
       "       -5.16708180e-01, -5.24504723e-01, -1.67028469e+00, -2.62378716e-02,\n",
       "       -1.93414893e-01,  2.19420124e+00,  1.11176964e-01,  6.79393547e-01,\n",
       "        7.37084175e-01,  6.99728419e-01, -1.18898281e+00,  8.88796835e-01,\n",
       "        1.12852897e+00,  4.15795933e-01,  1.45214151e+00,  4.88590809e-01,\n",
       "        5.67342456e-01,  1.78034406e+00, -6.07969221e-01,  1.88970433e-01,\n",
       "        3.46288249e-01, -5.25537344e-01, -1.15995418e+00, -1.18438550e+00,\n",
       "       -2.21603106e+00, -1.81446712e+00, -3.68561267e-01, -1.26668311e-01,\n",
       "        8.34464158e-02, -6.78584523e-01, -9.33809091e-03,  8.77348127e-02,\n",
       "        6.34300388e-01, -4.26921652e-02, -8.21934583e-02,  1.79259431e+00,\n",
       "        7.05633638e-01,  3.87234829e-01,  1.42526795e-01, -1.03568947e+00,\n",
       "        1.58272288e-01,  3.09146911e-01,  1.02261305e+00, -4.24446690e-01,\n",
       "        6.76979204e-01, -5.94045335e-02,  1.79904019e+00, -7.87866600e-01,\n",
       "       -1.36561604e-01, -1.50012215e+00, -6.10387035e-01,  9.59787113e-01,\n",
       "       -2.59039495e-01,  1.00249307e+00, -1.09278968e+00,  8.27372811e-01,\n",
       "        6.24403635e-01,  2.85089039e-02,  2.00054612e-01, -6.04536823e-01,\n",
       "       -1.21007514e+00,  8.86766474e-01,  1.14183408e+00, -9.88775206e-01,\n",
       "       -9.31398825e-03,  6.03831287e-01, -1.28668475e+00,  6.89452327e-01,\n",
       "       -1.17216783e+00, -1.24861593e+00, -1.36277506e-01, -7.59162868e-01,\n",
       "       -3.43267651e-01,  2.54844631e+00,  6.38432909e-02,  1.95854196e+00,\n",
       "       -1.18617623e+00,  9.29748113e-01,  6.82095170e-01,  6.94178730e-01,\n",
       "       -5.61811019e-01, -1.27072397e-01, -1.20245328e+00,  1.09008486e+00,\n",
       "        6.90972516e-01, -7.45535018e-01, -3.01666540e-01, -8.93586755e-02,\n",
       "       -1.29379747e-01,  1.00159788e+00,  2.08589758e+00, -1.10705044e+00,\n",
       "        1.09350409e+00, -1.18327470e+00, -3.64118975e-01, -8.36121962e-03,\n",
       "        8.49759141e-02,  6.50326412e-01, -1.45726185e+00, -9.30732666e-01,\n",
       "       -1.18367999e-01,  8.89793575e-02, -6.27586628e-01,  1.92988222e+00,\n",
       "       -4.47676119e-01, -8.10243594e-01,  1.05388556e+00,  1.15782178e+00,\n",
       "        1.51451921e+00, -1.20157490e+00,  9.73471579e-01,  2.66556148e-01,\n",
       "       -4.94738446e-01,  8.57893453e-01, -1.91575920e+00, -4.22047778e-02,\n",
       "       -5.15486504e-01,  3.65148459e-01, -2.40064527e-01,  5.03263898e-01,\n",
       "        6.54132998e-01,  6.13752939e-01,  7.79216332e-01,  1.30316376e+00,\n",
       "        2.07709237e-01, -2.19558038e+00, -6.19019872e-01, -5.91280591e-01,\n",
       "        5.16542010e-01, -6.55030054e-01,  1.55892320e-01, -5.71967229e-01,\n",
       "       -8.05832604e-01,  1.24687295e-01, -9.82250915e-01,  3.20150560e-01,\n",
       "       -5.17309798e-01, -1.67676777e-01, -4.37889665e-01, -3.30151519e-02,\n",
       "       -3.28025898e-01, -4.23540147e-01,  4.10089342e-01, -7.76943864e-01,\n",
       "        6.95926083e-01,  5.42311361e-01,  1.70420024e-02, -2.54975306e-01,\n",
       "       -8.05559201e-01,  1.74750356e+00, -1.86561360e+00, -1.96442570e-01,\n",
       "       -1.08722436e-01, -2.52682187e-01, -1.24143246e+00, -1.84847517e-01,\n",
       "        3.19992266e+00, -6.40808448e-01,  8.35901094e-01,  1.05582426e+00,\n",
       "        4.28826317e-01, -1.73312646e-01, -4.44704447e-01, -7.41295269e-01,\n",
       "        1.42829317e+00,  1.56238414e+00, -1.63292898e+00,  9.92309204e-01,\n",
       "       -2.20008614e-01,  1.50539348e-01,  1.83645321e+00, -8.92064116e-01,\n",
       "       -1.49326565e-01,  1.89537375e+00,  6.22960531e-02, -9.14695176e-01,\n",
       "       -1.07013065e+00,  9.79375276e-01, -6.24037191e-01, -1.70275444e-01,\n",
       "        5.04482320e-01, -1.12099921e+00, -1.75658666e+00,  2.71698076e-01,\n",
       "        6.17143291e-02,  1.11132014e+00,  9.75402099e-01, -1.09431144e+00,\n",
       "       -8.71245265e-01,  2.36072881e-01, -4.71045146e-01,  9.06288069e-01,\n",
       "        6.28710382e-01, -1.02940916e+00,  1.67831747e-01, -1.45175074e+00,\n",
       "        6.26699900e-01,  4.34391596e-01, -8.33722896e-01, -9.94649030e-01,\n",
       "        5.04913973e-01, -2.25698526e+00, -2.19472786e-01, -2.59563144e-01,\n",
       "       -4.87997847e-01,  1.12717080e+00, -1.96338794e-01, -1.97003077e+00,\n",
       "        7.41707381e-01, -1.41658368e+00, -5.02438021e-01, -3.22300545e-01,\n",
       "        5.78950557e-01, -6.10117746e-01, -8.33646874e-01,  4.75127695e-01,\n",
       "        5.65280375e-01, -3.64351497e-01, -6.94751501e-01,  1.14185693e+00,\n",
       "       -2.13753582e+00,  2.81546495e-01,  5.86678715e-01,  6.20231175e-01,\n",
       "        9.73606478e-01,  3.99462750e-01,  2.76949148e-02, -6.50662436e-01,\n",
       "        2.30863491e-01, -3.27886343e-03,  6.84089298e-01, -1.49457176e-01,\n",
       "        6.40460918e-02, -5.74172704e-01,  6.08944506e-01,  1.12047447e+00,\n",
       "       -3.43075131e-01,  1.54755718e+00,  1.03325686e-01,  4.37324859e-01,\n",
       "        1.27054230e+00,  2.15493740e-01,  7.99530667e-01,  7.12156854e-01,\n",
       "       -1.12599412e+00, -1.21408331e+00,  1.79176595e-01,  9.71621296e-01,\n",
       "       -1.91855431e-01, -3.30580878e-01,  6.30514846e-01,  4.49498468e-01,\n",
       "        1.01598514e+00,  1.14562845e+00, -8.78875635e-01, -1.05627367e-02,\n",
       "        1.51207692e+00, -1.51600262e-01,  7.65236754e-01,  7.52688819e-01,\n",
       "        4.40249424e-01,  2.45646611e+00, -2.96732916e-01,  3.23405166e-01,\n",
       "        2.07574082e+00,  6.53163819e-01, -5.86643317e-01, -8.41689356e-01,\n",
       "       -3.31754058e-01, -9.94952110e-02,  1.54718999e+00, -1.34451998e+00,\n",
       "        1.65059560e+00,  1.41390933e+00,  1.59960418e-01,  3.57977307e-01,\n",
       "       -1.02924206e+00,  1.43729757e+00,  2.09788269e-01,  5.91408401e-01,\n",
       "        7.80167950e-01, -9.04095562e-01, -1.68965556e-01, -4.83817748e-01,\n",
       "       -1.31309628e+00,  1.25345301e+00, -8.32156706e-01,  9.03482603e-01,\n",
       "       -3.71065832e-01,  7.32275062e-01,  1.27216747e+00, -2.94238531e-01,\n",
       "        1.83426544e-01, -1.06884199e+00, -5.49665985e-01, -2.58052581e-01,\n",
       "        2.50496400e-01, -3.57406591e-01, -1.11749620e-01,  1.19401818e+00,\n",
       "        5.81518501e-01,  3.09959307e-01, -1.77534348e+00, -1.73579827e-01,\n",
       "        5.79594929e-01, -1.40675188e+00,  3.34256978e-01,  1.19301779e+00,\n",
       "        8.01688429e-01, -1.02000773e+00,  5.97841104e-01, -7.05076281e-01,\n",
       "        1.56528280e+00,  1.42656144e+00, -8.78261481e-01,  5.63268220e-01,\n",
       "        9.82512466e-02, -5.44082466e-01,  1.53433887e+00, -1.49650209e+00,\n",
       "       -2.61495010e-01, -1.69099590e-01, -7.56977337e-01,  7.39654197e-01,\n",
       "       -1.29600228e+00,  4.83073344e-01,  2.57756157e-02,  8.43140115e-01,\n",
       "        3.34397187e-01, -8.00543468e-01, -4.49761171e-01,  1.65747711e-01,\n",
       "       -3.19897231e-02,  1.62894347e+00,  8.62433096e-01,  1.57551114e-01,\n",
       "        1.14170693e+00,  1.08914511e-01,  2.14476042e+00, -6.56386335e-01,\n",
       "        2.96067895e-01, -8.84364359e-01, -7.36498683e-01,  6.61293440e-01,\n",
       "        2.12797062e-01, -6.14981225e-01,  9.95753579e-01, -1.66416667e+00,\n",
       "       -6.15803268e-01,  5.45940354e-01,  5.61755050e-01, -1.83112490e+00,\n",
       "        9.33851752e-01, -4.05533307e-01,  1.44351853e+00,  5.05857452e-01,\n",
       "       -2.61937094e-01, -2.21219809e+00,  4.78153292e-01,  4.66403388e-01,\n",
       "        1.86095649e-01, -1.68674805e-01,  3.72798214e-02,  3.24244804e-01,\n",
       "        1.76044720e-01, -7.15483035e-03,  6.35234870e-01,  1.84404813e-01,\n",
       "       -5.41023910e-01,  1.28657412e-01, -4.92118975e-01,  1.57972899e-02,\n",
       "        5.29160553e-01, -1.58223135e+00,  4.65853730e-02,  4.20400146e-01,\n",
       "        1.76062791e-01, -8.49635016e-01, -3.11092637e-01, -5.84932403e-01,\n",
       "        8.42284793e-01,  3.40370945e-01,  4.96069471e-01, -6.04586288e-02,\n",
       "       -7.47515682e-01,  1.21832868e+00,  1.28949671e+00, -1.21034637e+00,\n",
       "       -1.05388460e-01,  1.28903023e+00, -3.05352529e-01, -1.36952420e+00,\n",
       "        8.84306702e-01,  2.36194983e+00, -1.10545055e+00, -5.89078744e-02,\n",
       "        1.04920411e+00, -8.83722895e-01, -9.38549427e-01, -9.67400639e-02,\n",
       "        3.48720396e-01,  1.55687706e-01, -2.60484493e-01,  4.89908378e-01,\n",
       "        6.01777507e-01, -1.30370452e-01,  4.75746851e-01, -8.21289972e-01,\n",
       "        1.65148983e-01,  1.20497320e+00, -2.93007838e-01, -4.14301815e-01,\n",
       "       -9.68852090e-01,  5.86438223e-01,  8.86533589e-01,  8.77770132e-01,\n",
       "        9.70245942e-01, -3.04428662e-01,  2.01706305e+00, -2.03312610e+00,\n",
       "       -2.13023255e-01, -6.93126032e-02,  3.37408394e-01, -9.12251347e-01,\n",
       "       -3.03192286e-01, -1.02194945e+00,  1.59571943e-01, -2.08310935e-01,\n",
       "        1.27497342e+00, -1.84110928e+00, -8.83962950e-01, -6.49817983e-01,\n",
       "       -3.36001525e+00, -1.74627352e+00, -6.40046168e-01,  3.72406953e-01,\n",
       "       -8.21982919e-03,  2.51238452e-01,  1.89370247e+00, -4.24856393e-01,\n",
       "       -5.40808483e-01,  8.52269288e-01, -1.63019778e+00, -5.43506765e-01,\n",
       "        5.02597852e-01,  9.27349933e-01, -1.01416189e+00, -4.16906544e-01,\n",
       "       -5.99571087e-01, -1.66457018e+00, -1.39972414e+00, -8.90649034e-01,\n",
       "        5.27106194e-01, -4.15139305e-01,  1.42233321e+00, -1.73478889e+00,\n",
       "       -1.60204246e+00, -1.31884458e+00, -1.57083278e+00,  5.76315644e-01,\n",
       "        9.64951015e-01, -1.46786173e+00,  8.35221310e-03,  3.79715760e-01,\n",
       "       -1.05595819e+00,  1.02000262e+00, -7.94761966e-02,  5.50226052e-01,\n",
       "        9.60640047e-01, -5.54178488e-01, -1.16022478e-01, -1.61990979e+00,\n",
       "       -5.27004612e-01, -2.33834696e-01, -1.22349140e+00,  5.77153127e-01,\n",
       "       -1.36762224e+00,  9.96465058e-01,  9.77656655e-02, -4.34728650e-01,\n",
       "       -2.01641314e-01, -1.25533285e+00, -1.75869999e+00,  1.15885655e+00,\n",
       "        7.96587130e-01, -2.06578156e-01,  1.85525378e+00, -8.20395223e-01,\n",
       "        1.46756238e-01, -5.16747964e-01,  1.13163215e+00, -1.28940252e+00,\n",
       "       -1.50981313e+00, -1.94144034e+00, -1.25185304e-01,  1.08450412e-01,\n",
       "        1.27307907e-01,  6.87806926e-01, -1.75526939e-01, -3.39684814e-01,\n",
       "       -1.65085170e+00, -3.21116405e-01, -9.62868888e-02, -1.66743951e+00,\n",
       "        1.29291815e+00, -4.24366013e-01, -9.93773668e-01,  6.65869573e-01,\n",
       "       -3.67111821e-01, -1.06457289e-01, -2.00080386e-01,  1.73110587e-01,\n",
       "        1.43408563e+00, -2.13746839e-01,  1.40081169e+00,  2.51204510e+00,\n",
       "        1.45218286e+00, -1.22757903e+00,  5.49208195e-01, -1.00393589e+00,\n",
       "        3.46050744e-01, -2.91190369e-01, -4.16593328e-02,  5.49849328e-01,\n",
       "        2.53402480e-01,  4.73950826e-01, -1.30770218e+00,  8.29436678e-01,\n",
       "        8.10812031e-01,  4.96223871e-01, -6.06871427e-01, -2.33671627e-01,\n",
       "        2.94136669e-01,  4.85850112e-02,  6.79874806e-01, -2.91846411e-01,\n",
       "       -7.73203501e-01,  2.74215475e-01,  1.10508021e+00, -5.11745363e-02,\n",
       "        8.64607753e-01, -3.69132858e-01,  2.02438753e-01,  7.35216677e-02,\n",
       "       -1.72065849e-01, -1.43789555e+00, -1.14295912e+00,  5.04341148e-01,\n",
       "        4.89054116e-01, -1.76723490e+00, -1.31154236e+00,  1.24571094e+00,\n",
       "       -4.80989367e-01,  8.17287660e-01,  1.88880340e-01, -7.88351139e-01,\n",
       "       -3.69390587e-01, -6.61217097e-01,  5.60816796e-01,  1.05407446e+00,\n",
       "       -9.12035301e-01,  1.40128056e+00,  8.65220772e-02, -7.62416326e-01,\n",
       "        6.46608189e-01,  1.08478673e+00,  1.64996309e+00, -2.19953891e+00,\n",
       "        1.88737078e+00,  3.06241318e+00, -7.13787136e-01,  5.62254067e-01,\n",
       "       -3.78196239e-01,  1.06181030e+00,  1.82563770e-01,  1.35988167e+00,\n",
       "       -6.00662018e-01,  1.46695451e+00, -1.23889239e+00,  1.63035451e-01,\n",
       "        8.40893375e-01, -2.75356884e+00, -5.35590937e-01,  3.94434826e-01,\n",
       "        8.06790146e-01, -7.10693286e-02,  1.10389078e-01, -1.34604058e-01,\n",
       "        8.24989286e-01,  9.17699410e-01,  2.56029779e-01,  3.60327267e-01,\n",
       "        1.96135756e+00, -3.81038159e-01, -2.99326150e-02, -3.76232217e-01,\n",
       "       -1.44476915e+00,  1.41012192e-01, -3.06548712e-01,  1.60340383e-01,\n",
       "        6.56811816e-01, -6.31794228e-01, -9.26787856e-01,  1.42452858e-01,\n",
       "        4.72416200e-01, -1.94279348e-01, -2.00196831e+00, -4.68569936e-01,\n",
       "        5.03845764e-01,  6.98376639e-01,  7.59531499e-01,  7.90890409e-01])"
      ]
     },
     "execution_count": 105,
     "metadata": {},
     "output_type": "execute_result"
    }
   ],
   "source": [
    "arr4"
   ]
  },
  {
   "cell_type": "code",
   "execution_count": 106,
   "metadata": {},
   "outputs": [],
   "source": [
    "np.savez_compressed('C:/Users/xiaonan/Desktop/arr3.npz',c=arr4)"
   ]
  },
  {
   "cell_type": "code",
   "execution_count": 108,
   "metadata": {},
   "outputs": [],
   "source": [
    "arch = np.load('C:/Users/xiaonan/Desktop/arr3.npz')"
   ]
  },
  {
   "cell_type": "code",
   "execution_count": 111,
   "metadata": {},
   "outputs": [
    {
     "data": {
      "text/plain": [
       "array([ 4.40808232e-01,  8.52285797e-01, -1.11121459e+00, -7.83242971e-01,\n",
       "        1.49184590e+00, -9.11392766e-02, -1.71421541e+00, -3.72865799e-01,\n",
       "       -4.11572994e-01,  1.14660275e+00,  3.88371533e-01,  6.70413337e-02,\n",
       "        1.47334523e-01,  8.28638597e-03,  9.40742712e-01, -3.89523235e-01,\n",
       "       -2.42617669e-01,  1.37131366e+00,  1.10753875e+00,  3.43567594e-01,\n",
       "        1.31355746e+00, -5.90259243e-01,  5.84886934e-01, -8.40321935e-01,\n",
       "       -1.15761478e+00,  6.62492360e-02,  2.09902840e-01, -1.52989742e-01,\n",
       "        7.72502887e-02, -1.79656063e+00, -4.80457281e-01, -6.74370899e-01,\n",
       "        2.01372852e+00,  1.49101893e+00,  1.00044319e+00, -4.03179696e-01,\n",
       "       -1.07621999e+00,  1.08986216e-01,  1.09517843e+00,  1.93920100e+00,\n",
       "        6.22941197e-01, -1.53063653e+00, -1.03716632e+00,  8.32221244e-01,\n",
       "        4.35795706e-01,  6.77788803e-01,  1.24792026e+00, -9.63947204e-01,\n",
       "        2.34397108e-01,  1.04998844e+00, -1.76056803e+00,  8.62618392e-02,\n",
       "       -7.84867093e-02, -4.10461673e-01,  2.89744472e-01,  4.80296214e-01,\n",
       "       -4.16235653e-01,  1.14313535e-01,  7.78936122e-01, -9.37821042e-01,\n",
       "       -3.38310637e-01, -1.37651534e+00,  1.47441988e+00, -2.47836522e-01,\n",
       "       -6.63680906e-01, -6.12458837e-01,  5.27607374e-01,  2.33333807e+00,\n",
       "        7.36551151e-01, -1.17678264e+00, -1.25216220e+00,  8.35507694e-01,\n",
       "       -2.48900036e-01,  5.31887649e-01, -8.83036837e-01, -9.61053253e-01,\n",
       "        6.31365610e-01, -4.36821670e-02, -1.57978110e+00, -2.53678393e-01,\n",
       "        6.06344304e-01, -5.68336695e-02, -1.58865182e-01,  3.85566561e-02,\n",
       "        3.04506893e-01, -5.72035042e-01,  1.20040469e-01, -1.50996912e+00,\n",
       "        6.94460891e-01, -9.59707876e-01,  4.75764816e-01, -5.16417580e-01,\n",
       "       -2.06946478e-01, -9.64518520e-01, -1.42795248e+00, -5.39603944e-01,\n",
       "       -1.04311753e+00,  9.41590226e-01, -8.36471069e-01, -1.36425648e+00,\n",
       "        5.28903137e-01, -3.71850128e-01,  1.03410923e+00,  1.20996742e+00,\n",
       "       -1.08147456e+00,  1.13396564e+00,  9.89678554e-01,  6.89500930e-02,\n",
       "       -5.66600153e-01, -3.36562508e-02, -1.66915041e-01,  7.56783027e-02,\n",
       "       -4.21025181e-01,  2.50304750e-01, -2.60381523e-01,  6.12705465e-01,\n",
       "        4.15193746e-01,  9.20622644e-02, -1.03482365e-01, -1.37355398e+00,\n",
       "        2.12387776e-01, -6.33891667e-01,  1.57063644e+00,  2.90587807e-01,\n",
       "       -3.99204704e-01, -1.29967062e+00, -7.96421008e-01,  8.00814508e-01,\n",
       "        1.97019254e-01, -7.28839831e-01,  3.12074001e-01,  2.48860871e-01,\n",
       "       -3.16704559e-01, -1.01472197e-01,  2.41635815e-01, -7.74364614e-02,\n",
       "        3.46495999e-01,  3.14039485e-01,  3.61475625e-01, -5.47811297e-01,\n",
       "       -9.04382471e-01,  9.49446481e-01, -2.34329166e+00, -1.78883846e+00,\n",
       "       -8.81522453e-01, -1.51570486e-01, -1.67550348e+00, -1.19168858e-01,\n",
       "        3.25007826e-01,  6.55629093e-01,  1.54215786e+00,  9.15032276e-02,\n",
       "        1.68127373e+00,  1.58789941e+00, -1.77208127e+00, -5.03981026e-01,\n",
       "       -1.84990097e-01,  1.22955259e+00, -1.37445912e-02, -2.15900085e+00,\n",
       "        2.99519267e-01,  8.20984024e-02, -2.07670928e+00, -5.33098445e-01,\n",
       "       -7.88418995e-01,  3.49740422e-01, -5.45718545e-01,  7.59193470e-01,\n",
       "       -1.64980353e+00,  1.34654104e+00, -5.40086426e-01,  4.32696094e-01,\n",
       "        9.65035961e-01,  2.17992454e-02,  8.99472629e-01, -1.00955930e+00,\n",
       "       -3.23485285e-01, -7.15835757e-01,  1.57907063e-01,  1.65862236e+00,\n",
       "        2.26279170e+00, -1.64682182e+00,  2.39404526e-01,  5.57775281e-02,\n",
       "       -9.46962418e-02,  2.38833247e+00,  7.25076121e-01,  1.16192281e+00,\n",
       "       -1.09509912e+00, -1.52531518e-01,  4.23647250e-01, -8.30202162e-01,\n",
       "       -2.50127423e-02,  4.47483621e-01, -5.66572220e-01, -5.57432145e-01,\n",
       "       -9.72482218e-01,  1.27214069e+00,  1.79008038e-01,  9.59064025e-01,\n",
       "        3.86847992e-01,  9.27456150e-01,  1.68856465e-01,  4.73192092e-01,\n",
       "        9.27234230e-01,  1.26643738e+00,  4.56701331e-01,  1.07422119e+00,\n",
       "       -7.89917665e-01,  7.96756026e-01, -8.37216461e-02, -1.22567984e+00,\n",
       "        2.08964626e+00,  5.18367432e-01,  9.62269709e-01, -4.83092199e-01,\n",
       "       -1.27524988e+00,  6.72597940e-03, -8.71145549e-01, -9.45449240e-02,\n",
       "       -1.50351380e+00,  1.33392548e+00,  6.22959341e-02,  6.22841135e-01,\n",
       "        1.09119943e+00, -7.44029939e-01, -1.77056911e+00, -9.97501001e-01,\n",
       "        6.49858744e-01,  1.49783993e-01,  1.97920617e+00,  4.26148828e-01,\n",
       "        1.77103627e-01, -1.02956412e+00,  1.29155882e+00, -2.72428398e-01,\n",
       "        8.69194174e-01, -1.79662988e-01,  5.01782311e-01, -9.20094113e-01,\n",
       "        8.42637852e-02,  7.54035849e-01,  2.06729213e-01,  9.53822730e-01,\n",
       "       -7.11909215e-01,  1.55799343e-02,  2.52894057e-01, -2.75070051e-01,\n",
       "       -1.66826963e-01, -1.87662190e+00,  6.20482398e-01, -2.41182121e+00,\n",
       "        5.92400178e-01,  1.73354938e-01,  4.32716044e-01, -1.09429886e+00,\n",
       "       -3.65095857e-01, -1.78788998e-01, -1.24363111e+00, -9.58025295e-01,\n",
       "       -5.47073608e-01,  6.23935641e-01, -2.29942382e-01, -4.47518013e-01,\n",
       "       -1.30602762e-01, -1.67909239e+00, -1.88109339e+00, -4.40422365e-01,\n",
       "        1.77808778e+00, -5.85047501e-01, -2.01227548e-01,  5.15045537e-01,\n",
       "       -8.37119807e-01, -1.17590758e+00,  1.12987882e+00, -7.20519967e-01,\n",
       "       -6.19473901e-01, -1.78206636e+00, -1.80995502e+00,  1.39555376e+00,\n",
       "       -1.60416290e+00,  1.04513167e+00, -7.83699764e-02,  1.74817287e+00,\n",
       "       -1.62222899e+00, -5.15930823e-01,  4.29510662e-01,  8.30999863e-01,\n",
       "       -8.90909465e-01,  5.23084228e-01,  5.78022868e-01, -1.54908196e+00,\n",
       "        1.31983499e+00,  2.35425650e-01, -4.46851462e-02,  1.50188760e-01,\n",
       "        6.94597751e-01,  2.41842733e-01,  1.71721509e+00, -6.92347222e-01,\n",
       "        3.21181184e-01, -5.22003131e-01, -1.09426008e+00,  5.43042068e-01,\n",
       "        9.32116444e-01, -6.38461240e-01, -5.92000137e-01, -1.46058081e+00,\n",
       "       -1.22869417e+00,  1.81578748e+00, -3.87520474e-01,  1.93364423e-01,\n",
       "        6.28097146e-01, -1.53574667e+00, -8.40022295e-01,  7.95015330e-01,\n",
       "        9.34656856e-01, -6.15814839e-01,  3.69479255e-01,  9.75786255e-01,\n",
       "       -2.61712370e+00, -1.81993434e-01,  4.89939695e-01, -5.41225275e-01,\n",
       "       -2.89440027e+00,  7.86137412e-02,  5.56971213e-01,  1.01766765e+00,\n",
       "       -7.77366172e-01, -4.31990916e-01,  2.51123223e-01,  4.47432139e-01,\n",
       "        2.16667108e+00,  8.15010185e-01, -9.32820637e-01,  2.28211374e+00,\n",
       "        8.54629307e-01, -2.99957963e-02, -4.72522353e-01, -4.42870388e-01,\n",
       "       -1.51715310e+00,  7.53026509e-01, -1.09542280e+00, -1.07745939e+00,\n",
       "       -4.48124975e-01, -1.76815458e+00,  1.27956729e+00,  1.05562870e+00,\n",
       "        1.07182381e+00,  5.57252775e-01,  7.37035706e-01, -1.25936063e-01,\n",
       "        1.37811293e+00, -1.71482066e+00, -2.29082886e-01,  5.95755802e-01,\n",
       "        2.73439698e-01, -9.06073322e-01,  2.39936824e+00,  1.53588792e+00,\n",
       "        3.76874935e-01,  1.69148287e+00,  1.21861091e-01, -3.09079760e-01,\n",
       "        1.75245638e+00, -5.18166420e-01, -1.67919738e-01,  3.90235439e-01,\n",
       "        8.50822370e-01,  6.65052422e-01, -7.60561780e-01,  1.64032928e+00,\n",
       "       -1.66621112e-01,  6.59001469e-01,  9.21457178e-01, -1.20940169e+00,\n",
       "       -6.01664925e-01, -1.75621832e-01,  4.86831445e-01,  1.08986387e-01,\n",
       "       -4.41140386e-01, -2.63470888e-01,  1.67460490e+00, -5.97160681e-01,\n",
       "       -5.70478536e-01, -1.01011126e+00, -3.16868463e-01,  3.56361373e-01,\n",
       "       -5.16708180e-01, -5.24504723e-01, -1.67028469e+00, -2.62378716e-02,\n",
       "       -1.93414893e-01,  2.19420124e+00,  1.11176964e-01,  6.79393547e-01,\n",
       "        7.37084175e-01,  6.99728419e-01, -1.18898281e+00,  8.88796835e-01,\n",
       "        1.12852897e+00,  4.15795933e-01,  1.45214151e+00,  4.88590809e-01,\n",
       "        5.67342456e-01,  1.78034406e+00, -6.07969221e-01,  1.88970433e-01,\n",
       "        3.46288249e-01, -5.25537344e-01, -1.15995418e+00, -1.18438550e+00,\n",
       "       -2.21603106e+00, -1.81446712e+00, -3.68561267e-01, -1.26668311e-01,\n",
       "        8.34464158e-02, -6.78584523e-01, -9.33809091e-03,  8.77348127e-02,\n",
       "        6.34300388e-01, -4.26921652e-02, -8.21934583e-02,  1.79259431e+00,\n",
       "        7.05633638e-01,  3.87234829e-01,  1.42526795e-01, -1.03568947e+00,\n",
       "        1.58272288e-01,  3.09146911e-01,  1.02261305e+00, -4.24446690e-01,\n",
       "        6.76979204e-01, -5.94045335e-02,  1.79904019e+00, -7.87866600e-01,\n",
       "       -1.36561604e-01, -1.50012215e+00, -6.10387035e-01,  9.59787113e-01,\n",
       "       -2.59039495e-01,  1.00249307e+00, -1.09278968e+00,  8.27372811e-01,\n",
       "        6.24403635e-01,  2.85089039e-02,  2.00054612e-01, -6.04536823e-01,\n",
       "       -1.21007514e+00,  8.86766474e-01,  1.14183408e+00, -9.88775206e-01,\n",
       "       -9.31398825e-03,  6.03831287e-01, -1.28668475e+00,  6.89452327e-01,\n",
       "       -1.17216783e+00, -1.24861593e+00, -1.36277506e-01, -7.59162868e-01,\n",
       "       -3.43267651e-01,  2.54844631e+00,  6.38432909e-02,  1.95854196e+00,\n",
       "       -1.18617623e+00,  9.29748113e-01,  6.82095170e-01,  6.94178730e-01,\n",
       "       -5.61811019e-01, -1.27072397e-01, -1.20245328e+00,  1.09008486e+00,\n",
       "        6.90972516e-01, -7.45535018e-01, -3.01666540e-01, -8.93586755e-02,\n",
       "       -1.29379747e-01,  1.00159788e+00,  2.08589758e+00, -1.10705044e+00,\n",
       "        1.09350409e+00, -1.18327470e+00, -3.64118975e-01, -8.36121962e-03,\n",
       "        8.49759141e-02,  6.50326412e-01, -1.45726185e+00, -9.30732666e-01,\n",
       "       -1.18367999e-01,  8.89793575e-02, -6.27586628e-01,  1.92988222e+00,\n",
       "       -4.47676119e-01, -8.10243594e-01,  1.05388556e+00,  1.15782178e+00,\n",
       "        1.51451921e+00, -1.20157490e+00,  9.73471579e-01,  2.66556148e-01,\n",
       "       -4.94738446e-01,  8.57893453e-01, -1.91575920e+00, -4.22047778e-02,\n",
       "       -5.15486504e-01,  3.65148459e-01, -2.40064527e-01,  5.03263898e-01,\n",
       "        6.54132998e-01,  6.13752939e-01,  7.79216332e-01,  1.30316376e+00,\n",
       "        2.07709237e-01, -2.19558038e+00, -6.19019872e-01, -5.91280591e-01,\n",
       "        5.16542010e-01, -6.55030054e-01,  1.55892320e-01, -5.71967229e-01,\n",
       "       -8.05832604e-01,  1.24687295e-01, -9.82250915e-01,  3.20150560e-01,\n",
       "       -5.17309798e-01, -1.67676777e-01, -4.37889665e-01, -3.30151519e-02,\n",
       "       -3.28025898e-01, -4.23540147e-01,  4.10089342e-01, -7.76943864e-01,\n",
       "        6.95926083e-01,  5.42311361e-01,  1.70420024e-02, -2.54975306e-01,\n",
       "       -8.05559201e-01,  1.74750356e+00, -1.86561360e+00, -1.96442570e-01,\n",
       "       -1.08722436e-01, -2.52682187e-01, -1.24143246e+00, -1.84847517e-01,\n",
       "        3.19992266e+00, -6.40808448e-01,  8.35901094e-01,  1.05582426e+00,\n",
       "        4.28826317e-01, -1.73312646e-01, -4.44704447e-01, -7.41295269e-01,\n",
       "        1.42829317e+00,  1.56238414e+00, -1.63292898e+00,  9.92309204e-01,\n",
       "       -2.20008614e-01,  1.50539348e-01,  1.83645321e+00, -8.92064116e-01,\n",
       "       -1.49326565e-01,  1.89537375e+00,  6.22960531e-02, -9.14695176e-01,\n",
       "       -1.07013065e+00,  9.79375276e-01, -6.24037191e-01, -1.70275444e-01,\n",
       "        5.04482320e-01, -1.12099921e+00, -1.75658666e+00,  2.71698076e-01,\n",
       "        6.17143291e-02,  1.11132014e+00,  9.75402099e-01, -1.09431144e+00,\n",
       "       -8.71245265e-01,  2.36072881e-01, -4.71045146e-01,  9.06288069e-01,\n",
       "        6.28710382e-01, -1.02940916e+00,  1.67831747e-01, -1.45175074e+00,\n",
       "        6.26699900e-01,  4.34391596e-01, -8.33722896e-01, -9.94649030e-01,\n",
       "        5.04913973e-01, -2.25698526e+00, -2.19472786e-01, -2.59563144e-01,\n",
       "       -4.87997847e-01,  1.12717080e+00, -1.96338794e-01, -1.97003077e+00,\n",
       "        7.41707381e-01, -1.41658368e+00, -5.02438021e-01, -3.22300545e-01,\n",
       "        5.78950557e-01, -6.10117746e-01, -8.33646874e-01,  4.75127695e-01,\n",
       "        5.65280375e-01, -3.64351497e-01, -6.94751501e-01,  1.14185693e+00,\n",
       "       -2.13753582e+00,  2.81546495e-01,  5.86678715e-01,  6.20231175e-01,\n",
       "        9.73606478e-01,  3.99462750e-01,  2.76949148e-02, -6.50662436e-01,\n",
       "        2.30863491e-01, -3.27886343e-03,  6.84089298e-01, -1.49457176e-01,\n",
       "        6.40460918e-02, -5.74172704e-01,  6.08944506e-01,  1.12047447e+00,\n",
       "       -3.43075131e-01,  1.54755718e+00,  1.03325686e-01,  4.37324859e-01,\n",
       "        1.27054230e+00,  2.15493740e-01,  7.99530667e-01,  7.12156854e-01,\n",
       "       -1.12599412e+00, -1.21408331e+00,  1.79176595e-01,  9.71621296e-01,\n",
       "       -1.91855431e-01, -3.30580878e-01,  6.30514846e-01,  4.49498468e-01,\n",
       "        1.01598514e+00,  1.14562845e+00, -8.78875635e-01, -1.05627367e-02,\n",
       "        1.51207692e+00, -1.51600262e-01,  7.65236754e-01,  7.52688819e-01,\n",
       "        4.40249424e-01,  2.45646611e+00, -2.96732916e-01,  3.23405166e-01,\n",
       "        2.07574082e+00,  6.53163819e-01, -5.86643317e-01, -8.41689356e-01,\n",
       "       -3.31754058e-01, -9.94952110e-02,  1.54718999e+00, -1.34451998e+00,\n",
       "        1.65059560e+00,  1.41390933e+00,  1.59960418e-01,  3.57977307e-01,\n",
       "       -1.02924206e+00,  1.43729757e+00,  2.09788269e-01,  5.91408401e-01,\n",
       "        7.80167950e-01, -9.04095562e-01, -1.68965556e-01, -4.83817748e-01,\n",
       "       -1.31309628e+00,  1.25345301e+00, -8.32156706e-01,  9.03482603e-01,\n",
       "       -3.71065832e-01,  7.32275062e-01,  1.27216747e+00, -2.94238531e-01,\n",
       "        1.83426544e-01, -1.06884199e+00, -5.49665985e-01, -2.58052581e-01,\n",
       "        2.50496400e-01, -3.57406591e-01, -1.11749620e-01,  1.19401818e+00,\n",
       "        5.81518501e-01,  3.09959307e-01, -1.77534348e+00, -1.73579827e-01,\n",
       "        5.79594929e-01, -1.40675188e+00,  3.34256978e-01,  1.19301779e+00,\n",
       "        8.01688429e-01, -1.02000773e+00,  5.97841104e-01, -7.05076281e-01,\n",
       "        1.56528280e+00,  1.42656144e+00, -8.78261481e-01,  5.63268220e-01,\n",
       "        9.82512466e-02, -5.44082466e-01,  1.53433887e+00, -1.49650209e+00,\n",
       "       -2.61495010e-01, -1.69099590e-01, -7.56977337e-01,  7.39654197e-01,\n",
       "       -1.29600228e+00,  4.83073344e-01,  2.57756157e-02,  8.43140115e-01,\n",
       "        3.34397187e-01, -8.00543468e-01, -4.49761171e-01,  1.65747711e-01,\n",
       "       -3.19897231e-02,  1.62894347e+00,  8.62433096e-01,  1.57551114e-01,\n",
       "        1.14170693e+00,  1.08914511e-01,  2.14476042e+00, -6.56386335e-01,\n",
       "        2.96067895e-01, -8.84364359e-01, -7.36498683e-01,  6.61293440e-01,\n",
       "        2.12797062e-01, -6.14981225e-01,  9.95753579e-01, -1.66416667e+00,\n",
       "       -6.15803268e-01,  5.45940354e-01,  5.61755050e-01, -1.83112490e+00,\n",
       "        9.33851752e-01, -4.05533307e-01,  1.44351853e+00,  5.05857452e-01,\n",
       "       -2.61937094e-01, -2.21219809e+00,  4.78153292e-01,  4.66403388e-01,\n",
       "        1.86095649e-01, -1.68674805e-01,  3.72798214e-02,  3.24244804e-01,\n",
       "        1.76044720e-01, -7.15483035e-03,  6.35234870e-01,  1.84404813e-01,\n",
       "       -5.41023910e-01,  1.28657412e-01, -4.92118975e-01,  1.57972899e-02,\n",
       "        5.29160553e-01, -1.58223135e+00,  4.65853730e-02,  4.20400146e-01,\n",
       "        1.76062791e-01, -8.49635016e-01, -3.11092637e-01, -5.84932403e-01,\n",
       "        8.42284793e-01,  3.40370945e-01,  4.96069471e-01, -6.04586288e-02,\n",
       "       -7.47515682e-01,  1.21832868e+00,  1.28949671e+00, -1.21034637e+00,\n",
       "       -1.05388460e-01,  1.28903023e+00, -3.05352529e-01, -1.36952420e+00,\n",
       "        8.84306702e-01,  2.36194983e+00, -1.10545055e+00, -5.89078744e-02,\n",
       "        1.04920411e+00, -8.83722895e-01, -9.38549427e-01, -9.67400639e-02,\n",
       "        3.48720396e-01,  1.55687706e-01, -2.60484493e-01,  4.89908378e-01,\n",
       "        6.01777507e-01, -1.30370452e-01,  4.75746851e-01, -8.21289972e-01,\n",
       "        1.65148983e-01,  1.20497320e+00, -2.93007838e-01, -4.14301815e-01,\n",
       "       -9.68852090e-01,  5.86438223e-01,  8.86533589e-01,  8.77770132e-01,\n",
       "        9.70245942e-01, -3.04428662e-01,  2.01706305e+00, -2.03312610e+00,\n",
       "       -2.13023255e-01, -6.93126032e-02,  3.37408394e-01, -9.12251347e-01,\n",
       "       -3.03192286e-01, -1.02194945e+00,  1.59571943e-01, -2.08310935e-01,\n",
       "        1.27497342e+00, -1.84110928e+00, -8.83962950e-01, -6.49817983e-01,\n",
       "       -3.36001525e+00, -1.74627352e+00, -6.40046168e-01,  3.72406953e-01,\n",
       "       -8.21982919e-03,  2.51238452e-01,  1.89370247e+00, -4.24856393e-01,\n",
       "       -5.40808483e-01,  8.52269288e-01, -1.63019778e+00, -5.43506765e-01,\n",
       "        5.02597852e-01,  9.27349933e-01, -1.01416189e+00, -4.16906544e-01,\n",
       "       -5.99571087e-01, -1.66457018e+00, -1.39972414e+00, -8.90649034e-01,\n",
       "        5.27106194e-01, -4.15139305e-01,  1.42233321e+00, -1.73478889e+00,\n",
       "       -1.60204246e+00, -1.31884458e+00, -1.57083278e+00,  5.76315644e-01,\n",
       "        9.64951015e-01, -1.46786173e+00,  8.35221310e-03,  3.79715760e-01,\n",
       "       -1.05595819e+00,  1.02000262e+00, -7.94761966e-02,  5.50226052e-01,\n",
       "        9.60640047e-01, -5.54178488e-01, -1.16022478e-01, -1.61990979e+00,\n",
       "       -5.27004612e-01, -2.33834696e-01, -1.22349140e+00,  5.77153127e-01,\n",
       "       -1.36762224e+00,  9.96465058e-01,  9.77656655e-02, -4.34728650e-01,\n",
       "       -2.01641314e-01, -1.25533285e+00, -1.75869999e+00,  1.15885655e+00,\n",
       "        7.96587130e-01, -2.06578156e-01,  1.85525378e+00, -8.20395223e-01,\n",
       "        1.46756238e-01, -5.16747964e-01,  1.13163215e+00, -1.28940252e+00,\n",
       "       -1.50981313e+00, -1.94144034e+00, -1.25185304e-01,  1.08450412e-01,\n",
       "        1.27307907e-01,  6.87806926e-01, -1.75526939e-01, -3.39684814e-01,\n",
       "       -1.65085170e+00, -3.21116405e-01, -9.62868888e-02, -1.66743951e+00,\n",
       "        1.29291815e+00, -4.24366013e-01, -9.93773668e-01,  6.65869573e-01,\n",
       "       -3.67111821e-01, -1.06457289e-01, -2.00080386e-01,  1.73110587e-01,\n",
       "        1.43408563e+00, -2.13746839e-01,  1.40081169e+00,  2.51204510e+00,\n",
       "        1.45218286e+00, -1.22757903e+00,  5.49208195e-01, -1.00393589e+00,\n",
       "        3.46050744e-01, -2.91190369e-01, -4.16593328e-02,  5.49849328e-01,\n",
       "        2.53402480e-01,  4.73950826e-01, -1.30770218e+00,  8.29436678e-01,\n",
       "        8.10812031e-01,  4.96223871e-01, -6.06871427e-01, -2.33671627e-01,\n",
       "        2.94136669e-01,  4.85850112e-02,  6.79874806e-01, -2.91846411e-01,\n",
       "       -7.73203501e-01,  2.74215475e-01,  1.10508021e+00, -5.11745363e-02,\n",
       "        8.64607753e-01, -3.69132858e-01,  2.02438753e-01,  7.35216677e-02,\n",
       "       -1.72065849e-01, -1.43789555e+00, -1.14295912e+00,  5.04341148e-01,\n",
       "        4.89054116e-01, -1.76723490e+00, -1.31154236e+00,  1.24571094e+00,\n",
       "       -4.80989367e-01,  8.17287660e-01,  1.88880340e-01, -7.88351139e-01,\n",
       "       -3.69390587e-01, -6.61217097e-01,  5.60816796e-01,  1.05407446e+00,\n",
       "       -9.12035301e-01,  1.40128056e+00,  8.65220772e-02, -7.62416326e-01,\n",
       "        6.46608189e-01,  1.08478673e+00,  1.64996309e+00, -2.19953891e+00,\n",
       "        1.88737078e+00,  3.06241318e+00, -7.13787136e-01,  5.62254067e-01,\n",
       "       -3.78196239e-01,  1.06181030e+00,  1.82563770e-01,  1.35988167e+00,\n",
       "       -6.00662018e-01,  1.46695451e+00, -1.23889239e+00,  1.63035451e-01,\n",
       "        8.40893375e-01, -2.75356884e+00, -5.35590937e-01,  3.94434826e-01,\n",
       "        8.06790146e-01, -7.10693286e-02,  1.10389078e-01, -1.34604058e-01,\n",
       "        8.24989286e-01,  9.17699410e-01,  2.56029779e-01,  3.60327267e-01,\n",
       "        1.96135756e+00, -3.81038159e-01, -2.99326150e-02, -3.76232217e-01,\n",
       "       -1.44476915e+00,  1.41012192e-01, -3.06548712e-01,  1.60340383e-01,\n",
       "        6.56811816e-01, -6.31794228e-01, -9.26787856e-01,  1.42452858e-01,\n",
       "        4.72416200e-01, -1.94279348e-01, -2.00196831e+00, -4.68569936e-01,\n",
       "        5.03845764e-01,  6.98376639e-01,  7.59531499e-01,  7.90890409e-01])"
      ]
     },
     "execution_count": 111,
     "metadata": {},
     "output_type": "execute_result"
    }
   ],
   "source": [
    "arch['c']"
   ]
  },
  {
   "cell_type": "code",
   "execution_count": 112,
   "metadata": {},
   "outputs": [],
   "source": [
    "x = np.array([[1,2,3],[4,5,6]])"
   ]
  },
  {
   "cell_type": "code",
   "execution_count": 113,
   "metadata": {},
   "outputs": [
    {
     "data": {
      "text/plain": [
       "array([[1, 2, 3],\n",
       "       [4, 5, 6]])"
      ]
     },
     "execution_count": 113,
     "metadata": {},
     "output_type": "execute_result"
    }
   ],
   "source": [
    "x"
   ]
  },
  {
   "cell_type": "code",
   "execution_count": 114,
   "metadata": {},
   "outputs": [],
   "source": [
    "y = np.array([[6,23],[-1,7],[8,9]])"
   ]
  },
  {
   "cell_type": "code",
   "execution_count": 115,
   "metadata": {},
   "outputs": [
    {
     "data": {
      "text/plain": [
       "array([[ 6, 23],\n",
       "       [-1,  7],\n",
       "       [ 8,  9]])"
      ]
     },
     "execution_count": 115,
     "metadata": {},
     "output_type": "execute_result"
    }
   ],
   "source": [
    "y"
   ]
  },
  {
   "cell_type": "code",
   "execution_count": 116,
   "metadata": {},
   "outputs": [
    {
     "data": {
      "text/plain": [
       "array([[ 28,  64],\n",
       "       [ 67, 181]])"
      ]
     },
     "execution_count": 116,
     "metadata": {},
     "output_type": "execute_result"
    }
   ],
   "source": [
    "x.dot(y)"
   ]
  },
  {
   "cell_type": "code",
   "execution_count": 117,
   "metadata": {},
   "outputs": [
    {
     "data": {
      "text/plain": [
       "array([[ 28,  64],\n",
       "       [ 67, 181]])"
      ]
     },
     "execution_count": 117,
     "metadata": {},
     "output_type": "execute_result"
    }
   ],
   "source": [
    "np.dot(x,y)"
   ]
  },
  {
   "cell_type": "code",
   "execution_count": 118,
   "metadata": {},
   "outputs": [
    {
     "data": {
      "text/plain": [
       "array([1., 1., 1.])"
      ]
     },
     "execution_count": 118,
     "metadata": {},
     "output_type": "execute_result"
    }
   ],
   "source": [
    "np.ones(3)"
   ]
  },
  {
   "cell_type": "code",
   "execution_count": 121,
   "metadata": {},
   "outputs": [
    {
     "data": {
      "text/plain": [
       "array([ 6., 15.])"
      ]
     },
     "execution_count": 121,
     "metadata": {},
     "output_type": "execute_result"
    }
   ],
   "source": [
    "np.dot(x,np.ones(3))"
   ]
  },
  {
   "cell_type": "code",
   "execution_count": 123,
   "metadata": {},
   "outputs": [],
   "source": [
    "from numpy.linalg import inv,qr"
   ]
  },
  {
   "cell_type": "code",
   "execution_count": 124,
   "metadata": {},
   "outputs": [],
   "source": [
    "x = np.random.randn(5,5)"
   ]
  },
  {
   "cell_type": "code",
   "execution_count": 125,
   "metadata": {},
   "outputs": [
    {
     "data": {
      "text/plain": [
       "array([[ 0.28714224, -0.40024753,  0.49966689,  0.60220074, -0.22943282],\n",
       "       [-0.56514819, -0.49903208,  0.36352506, -0.33804981,  0.73292504],\n",
       "       [ 0.2888334 ,  0.79979111,  0.4523604 ,  0.4176437 , -1.09800082],\n",
       "       [ 0.45365136, -0.13576   ,  0.37531415, -0.70272303, -0.911177  ],\n",
       "       [-0.78135786, -2.08184039, -1.6458079 , -0.06742642, -1.11413372]])"
      ]
     },
     "execution_count": 125,
     "metadata": {},
     "output_type": "execute_result"
    }
   ],
   "source": [
    "x"
   ]
  },
  {
   "cell_type": "code",
   "execution_count": 126,
   "metadata": {},
   "outputs": [],
   "source": [
    "mat = x.T.dot(x)"
   ]
  },
  {
   "cell_type": "code",
   "execution_count": 127,
   "metadata": {},
   "outputs": [
    {
     "data": {
      "text/plain": [
       "array([[ 1.30158755,  1.96318013,  1.52491344,  0.21848786, -0.34004997],\n",
       "       [ 1.96318013,  5.40138709,  3.35574941,  0.49746877,  1.29105549],\n",
       "       [ 1.52491344,  3.35574941,  3.43599174,  0.21416469,  1.14677701],\n",
       "       [ 0.21848786,  0.49746877,  0.21416469,  1.14971565, -0.1290758 ],\n",
       "       [-0.34004997,  1.29105549,  1.14677701, -0.1290758 ,  3.86696178]])"
      ]
     },
     "execution_count": 127,
     "metadata": {},
     "output_type": "execute_result"
    }
   ],
   "source": [
    "mat"
   ]
  },
  {
   "cell_type": "code",
   "execution_count": 128,
   "metadata": {},
   "outputs": [
    {
     "data": {
      "text/plain": [
       "array([[ 3.42107825, -0.83284371, -0.99627582, -0.00604619,  0.87415158],\n",
       "       [-0.83284371,  0.69377121, -0.21835603, -0.12868056, -0.24440621],\n",
       "       [-0.99627582, -0.21835603,  1.05166759,  0.05143572, -0.32487079],\n",
       "       [-0.00604619, -0.12868056,  0.05143572,  0.92353859,  0.05800391],\n",
       "       [ 0.87415158, -0.24440621, -0.32487079,  0.05800391,  0.51534992]])"
      ]
     },
     "execution_count": 128,
     "metadata": {},
     "output_type": "execute_result"
    }
   ],
   "source": [
    "inv(mat)"
   ]
  },
  {
   "cell_type": "code",
   "execution_count": 129,
   "metadata": {},
   "outputs": [],
   "source": [
    "q,r = qr(mat)"
   ]
  },
  {
   "cell_type": "code",
   "execution_count": 130,
   "metadata": {},
   "outputs": [
    {
     "data": {
      "text/plain": [
       "array([[-0.45912196,  0.38089355,  0.0140871 ,  0.07922416,  0.79853128],\n",
       "       [-0.69249211, -0.41098743,  0.53649868,  0.11775671, -0.22326334],\n",
       "       [-0.53789793,  0.01990841, -0.78449793, -0.08222965, -0.29676716],\n",
       "       [-0.0770694 , -0.00387575,  0.13607945, -0.98626575,  0.05298616],\n",
       "       [ 0.11994922, -0.82800849, -0.27931362, -0.01936586,  0.4707685 ]])"
      ]
     },
     "execution_count": 130,
     "metadata": {},
     "output_type": "execute_result"
    }
   ],
   "source": [
    "q"
   ]
  },
  {
   "cell_type": "code",
   "execution_count": 131,
   "metadata": {},
   "outputs": [
    {
     "data": {
      "text/plain": [
       "array([[-2.83494943, -6.33028628, -4.75111466, -0.66409496, -0.88098348],\n",
       "       [ 0.        , -2.4762649 , -1.68030715, -0.01454927, -3.83867684],\n",
       "       [ 0.        ,  0.        , -1.16485868,  0.29446274, -1.30944459],\n",
       "       [ 0.        ,  0.        ,  0.        , -1.07314639,  0.08320721],\n",
       "       [ 0.        ,  0.        ,  0.        ,  0.        ,  0.91349292]])"
      ]
     },
     "execution_count": 131,
     "metadata": {},
     "output_type": "execute_result"
    }
   ],
   "source": [
    "r"
   ]
  },
  {
   "cell_type": "code",
   "execution_count": null,
   "metadata": {},
   "outputs": [],
   "source": []
  }
 ],
 "metadata": {
  "kernelspec": {
   "display_name": "Python 3",
   "language": "python",
   "name": "python3"
  },
  "language_info": {
   "codemirror_mode": {
    "name": "ipython",
    "version": 3
   },
   "file_extension": ".py",
   "mimetype": "text/x-python",
   "name": "python",
   "nbconvert_exporter": "python",
   "pygments_lexer": "ipython3",
   "version": "3.7.4"
  }
 },
 "nbformat": 4,
 "nbformat_minor": 2
}
